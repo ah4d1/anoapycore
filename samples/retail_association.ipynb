{
 "cells": [
  {
   "cell_type": "code",
   "execution_count": 1,
   "metadata": {},
   "outputs": [],
   "source": [
    "import anoapycore as ap"
   ]
  },
  {
   "cell_type": "code",
   "execution_count": 2,
   "metadata": {},
   "outputs": [],
   "source": [
    "import pandas as pd"
   ]
  },
  {
   "cell_type": "code",
   "execution_count": 3,
   "metadata": {},
   "outputs": [],
   "source": [
    "# original data : https://gist.github.com/Harsh-Git-Hub/2979ec48043928ad9033d8469928e751\n",
    "v_data = ap.data.load.csv(\"../data/retail/retail.csv\")"
   ]
  },
  {
   "cell_type": "code",
   "execution_count": 4,
   "metadata": {},
   "outputs": [
    {
     "data": {
      "text/html": [
       "<div>\n",
       "<style scoped>\n",
       "    .dataframe tbody tr th:only-of-type {\n",
       "        vertical-align: middle;\n",
       "    }\n",
       "\n",
       "    .dataframe tbody tr th {\n",
       "        vertical-align: top;\n",
       "    }\n",
       "\n",
       "    .dataframe thead th {\n",
       "        text-align: right;\n",
       "    }\n",
       "</style>\n",
       "<table border=\"1\" class=\"dataframe\">\n",
       "  <thead>\n",
       "    <tr style=\"text-align: right;\">\n",
       "      <th></th>\n",
       "      <th>0</th>\n",
       "      <th>1</th>\n",
       "      <th>2</th>\n",
       "      <th>3</th>\n",
       "      <th>4</th>\n",
       "      <th>5</th>\n",
       "      <th>6</th>\n",
       "    </tr>\n",
       "  </thead>\n",
       "  <tbody>\n",
       "    <tr>\n",
       "      <th>0</th>\n",
       "      <td>Bread</td>\n",
       "      <td>Wine</td>\n",
       "      <td>Eggs</td>\n",
       "      <td>Meat</td>\n",
       "      <td>Cheese</td>\n",
       "      <td>Pencil</td>\n",
       "      <td>Diaper</td>\n",
       "    </tr>\n",
       "    <tr>\n",
       "      <th>1</th>\n",
       "      <td>Bread</td>\n",
       "      <td>Cheese</td>\n",
       "      <td>Meat</td>\n",
       "      <td>Diaper</td>\n",
       "      <td>Wine</td>\n",
       "      <td>Milk</td>\n",
       "      <td>Pencil</td>\n",
       "    </tr>\n",
       "    <tr>\n",
       "      <th>2</th>\n",
       "      <td>Cheese</td>\n",
       "      <td>Meat</td>\n",
       "      <td>Eggs</td>\n",
       "      <td>Milk</td>\n",
       "      <td>Wine</td>\n",
       "      <td>NaN</td>\n",
       "      <td>NaN</td>\n",
       "    </tr>\n",
       "    <tr>\n",
       "      <th>3</th>\n",
       "      <td>Cheese</td>\n",
       "      <td>Meat</td>\n",
       "      <td>Eggs</td>\n",
       "      <td>Milk</td>\n",
       "      <td>Wine</td>\n",
       "      <td>NaN</td>\n",
       "      <td>NaN</td>\n",
       "    </tr>\n",
       "    <tr>\n",
       "      <th>4</th>\n",
       "      <td>Meat</td>\n",
       "      <td>Pencil</td>\n",
       "      <td>Wine</td>\n",
       "      <td>NaN</td>\n",
       "      <td>NaN</td>\n",
       "      <td>NaN</td>\n",
       "      <td>NaN</td>\n",
       "    </tr>\n",
       "  </tbody>\n",
       "</table>\n",
       "</div>"
      ],
      "text/plain": [
       "        0       1     2       3       4       5       6\n",
       "0   Bread    Wine  Eggs    Meat  Cheese  Pencil  Diaper\n",
       "1   Bread  Cheese  Meat  Diaper    Wine    Milk  Pencil\n",
       "2  Cheese    Meat  Eggs    Milk    Wine     NaN     NaN\n",
       "3  Cheese    Meat  Eggs    Milk    Wine     NaN     NaN\n",
       "4    Meat  Pencil  Wine     NaN     NaN     NaN     NaN"
      ]
     },
     "execution_count": 4,
     "metadata": {},
     "output_type": "execute_result"
    }
   ],
   "source": [
    "ap.data.sample(v_data)"
   ]
  },
  {
   "cell_type": "code",
   "execution_count": 5,
   "metadata": {},
   "outputs": [
    {
     "name": "stdout",
     "output_type": "stream",
     "text": [
      "315 rows x 7 columns\n"
     ]
    }
   ],
   "source": [
    "ap.data.dimension(v_data)"
   ]
  },
  {
   "cell_type": "code",
   "execution_count": 6,
   "metadata": {},
   "outputs": [
    {
     "data": {
      "text/plain": [
       "array(['Bread', 'Cheese', 'Meat', 'Eggs', 'Wine', 'Bagel', 'Pencil',\n",
       "       'Diaper', 'Milk'], dtype=object)"
      ]
     },
     "execution_count": 6,
     "metadata": {},
     "output_type": "execute_result"
    }
   ],
   "source": [
    "ap.data.value.unique(v_data)"
   ]
  },
  {
   "cell_type": "code",
   "execution_count": 7,
   "metadata": {},
   "outputs": [
    {
     "data": {
      "text/plain": [
       "0      0\n",
       "1     30\n",
       "2     70\n",
       "3    128\n",
       "4    182\n",
       "5    244\n",
       "6    274\n",
       "dtype: int64"
      ]
     },
     "execution_count": 7,
     "metadata": {},
     "output_type": "execute_result"
    }
   ],
   "source": [
    "ap.data.column.value.null.count(v_data)"
   ]
  },
  {
   "cell_type": "code",
   "execution_count": 8,
   "metadata": {},
   "outputs": [],
   "source": [
    "v_data_to_model = ap.data.value.one_hot_encoding(v_data)"
   ]
  },
  {
   "cell_type": "code",
   "execution_count": 9,
   "metadata": {},
   "outputs": [
    {
     "data": {
      "text/html": [
       "<div>\n",
       "<style scoped>\n",
       "    .dataframe tbody tr th:only-of-type {\n",
       "        vertical-align: middle;\n",
       "    }\n",
       "\n",
       "    .dataframe tbody tr th {\n",
       "        vertical-align: top;\n",
       "    }\n",
       "\n",
       "    .dataframe thead th {\n",
       "        text-align: right;\n",
       "    }\n",
       "</style>\n",
       "<table border=\"1\" class=\"dataframe\">\n",
       "  <thead>\n",
       "    <tr style=\"text-align: right;\">\n",
       "      <th></th>\n",
       "      <th>Milk</th>\n",
       "      <th>Bagel</th>\n",
       "      <th>Cheese</th>\n",
       "      <th>Diaper</th>\n",
       "      <th>Meat</th>\n",
       "      <th>Wine</th>\n",
       "      <th>Bread</th>\n",
       "      <th>Pencil</th>\n",
       "      <th>Eggs</th>\n",
       "    </tr>\n",
       "  </thead>\n",
       "  <tbody>\n",
       "    <tr>\n",
       "      <th>0</th>\n",
       "      <td>0</td>\n",
       "      <td>0</td>\n",
       "      <td>1</td>\n",
       "      <td>1</td>\n",
       "      <td>1</td>\n",
       "      <td>1</td>\n",
       "      <td>1</td>\n",
       "      <td>1</td>\n",
       "      <td>1</td>\n",
       "    </tr>\n",
       "    <tr>\n",
       "      <th>1</th>\n",
       "      <td>1</td>\n",
       "      <td>0</td>\n",
       "      <td>1</td>\n",
       "      <td>1</td>\n",
       "      <td>1</td>\n",
       "      <td>1</td>\n",
       "      <td>1</td>\n",
       "      <td>1</td>\n",
       "      <td>0</td>\n",
       "    </tr>\n",
       "    <tr>\n",
       "      <th>2</th>\n",
       "      <td>1</td>\n",
       "      <td>0</td>\n",
       "      <td>1</td>\n",
       "      <td>0</td>\n",
       "      <td>1</td>\n",
       "      <td>1</td>\n",
       "      <td>0</td>\n",
       "      <td>0</td>\n",
       "      <td>1</td>\n",
       "    </tr>\n",
       "    <tr>\n",
       "      <th>3</th>\n",
       "      <td>1</td>\n",
       "      <td>0</td>\n",
       "      <td>1</td>\n",
       "      <td>0</td>\n",
       "      <td>1</td>\n",
       "      <td>1</td>\n",
       "      <td>0</td>\n",
       "      <td>0</td>\n",
       "      <td>1</td>\n",
       "    </tr>\n",
       "    <tr>\n",
       "      <th>4</th>\n",
       "      <td>0</td>\n",
       "      <td>0</td>\n",
       "      <td>0</td>\n",
       "      <td>0</td>\n",
       "      <td>1</td>\n",
       "      <td>1</td>\n",
       "      <td>0</td>\n",
       "      <td>1</td>\n",
       "      <td>0</td>\n",
       "    </tr>\n",
       "  </tbody>\n",
       "</table>\n",
       "</div>"
      ],
      "text/plain": [
       "   Milk  Bagel  Cheese  Diaper  Meat  Wine  Bread  Pencil  Eggs\n",
       "0     0      0       1       1     1     1      1       1     1\n",
       "1     1      0       1       1     1     1      1       1     0\n",
       "2     1      0       1       0     1     1      0       0     1\n",
       "3     1      0       1       0     1     1      0       0     1\n",
       "4     0      0       0       0     1     1      0       1     0"
      ]
     },
     "execution_count": 9,
     "metadata": {},
     "output_type": "execute_result"
    }
   ],
   "source": [
    "ap.data.sample(v_data_to_model)"
   ]
  },
  {
   "cell_type": "code",
   "execution_count": 10,
   "metadata": {},
   "outputs": [
    {
     "name": "stdout",
     "output_type": "stream",
     "text": [
      "315 rows x 9 columns\n"
     ]
    }
   ],
   "source": [
    "ap.data.dimension(v_data_to_model)"
   ]
  },
  {
   "cell_type": "code",
   "execution_count": 11,
   "metadata": {},
   "outputs": [
    {
     "name": "stdout",
     "output_type": "stream",
     "text": [
      "\r",
      "Processing 72 combinations | Sampling itemset size 2\r",
      "Processing 3 combinations | Sampling itemset size 3\n"
     ]
    }
   ],
   "source": [
    "v_model = ap.ml.association.apriori.run(a_data=v_data_to_model,b_min_support=0.3,b_min_confidence=0.5)"
   ]
  },
  {
   "cell_type": "code",
   "execution_count": 12,
   "metadata": {},
   "outputs": [
    {
     "data": {
      "text/html": [
       "<div>\n",
       "<style scoped>\n",
       "    .dataframe tbody tr th:only-of-type {\n",
       "        vertical-align: middle;\n",
       "    }\n",
       "\n",
       "    .dataframe tbody tr th {\n",
       "        vertical-align: top;\n",
       "    }\n",
       "\n",
       "    .dataframe thead th {\n",
       "        text-align: right;\n",
       "    }\n",
       "</style>\n",
       "<table border=\"1\" class=\"dataframe\">\n",
       "  <thead>\n",
       "    <tr style=\"text-align: right;\">\n",
       "      <th></th>\n",
       "      <th>support</th>\n",
       "      <th>itemsets</th>\n",
       "    </tr>\n",
       "  </thead>\n",
       "  <tbody>\n",
       "    <tr>\n",
       "      <th>0</th>\n",
       "      <td>0.501587</td>\n",
       "      <td>(Milk)</td>\n",
       "    </tr>\n",
       "    <tr>\n",
       "      <th>1</th>\n",
       "      <td>0.425397</td>\n",
       "      <td>(Bagel)</td>\n",
       "    </tr>\n",
       "    <tr>\n",
       "      <th>2</th>\n",
       "      <td>0.501587</td>\n",
       "      <td>(Cheese)</td>\n",
       "    </tr>\n",
       "    <tr>\n",
       "      <th>3</th>\n",
       "      <td>0.406349</td>\n",
       "      <td>(Diaper)</td>\n",
       "    </tr>\n",
       "    <tr>\n",
       "      <th>4</th>\n",
       "      <td>0.476190</td>\n",
       "      <td>(Meat)</td>\n",
       "    </tr>\n",
       "    <tr>\n",
       "      <th>5</th>\n",
       "      <td>0.438095</td>\n",
       "      <td>(Wine)</td>\n",
       "    </tr>\n",
       "    <tr>\n",
       "      <th>6</th>\n",
       "      <td>0.504762</td>\n",
       "      <td>(Bread)</td>\n",
       "    </tr>\n",
       "    <tr>\n",
       "      <th>7</th>\n",
       "      <td>0.361905</td>\n",
       "      <td>(Pencil)</td>\n",
       "    </tr>\n",
       "    <tr>\n",
       "      <th>8</th>\n",
       "      <td>0.438095</td>\n",
       "      <td>(Eggs)</td>\n",
       "    </tr>\n",
       "    <tr>\n",
       "      <th>9</th>\n",
       "      <td>0.304762</td>\n",
       "      <td>(Milk, Cheese)</td>\n",
       "    </tr>\n",
       "    <tr>\n",
       "      <th>10</th>\n",
       "      <td>0.323810</td>\n",
       "      <td>(Cheese, Meat)</td>\n",
       "    </tr>\n",
       "  </tbody>\n",
       "</table>\n",
       "</div>"
      ],
      "text/plain": [
       "     support        itemsets\n",
       "0   0.501587          (Milk)\n",
       "1   0.425397         (Bagel)\n",
       "2   0.501587        (Cheese)\n",
       "3   0.406349        (Diaper)\n",
       "4   0.476190          (Meat)\n",
       "5   0.438095          (Wine)\n",
       "6   0.504762         (Bread)\n",
       "7   0.361905        (Pencil)\n",
       "8   0.438095          (Eggs)\n",
       "9   0.304762  (Milk, Cheese)\n",
       "10  0.323810  (Cheese, Meat)"
      ]
     },
     "execution_count": 12,
     "metadata": {},
     "output_type": "execute_result"
    }
   ],
   "source": [
    "v_model.freq_items"
   ]
  },
  {
   "cell_type": "code",
   "execution_count": 13,
   "metadata": {},
   "outputs": [
    {
     "data": {
      "text/html": [
       "<div>\n",
       "<style scoped>\n",
       "    .dataframe tbody tr th:only-of-type {\n",
       "        vertical-align: middle;\n",
       "    }\n",
       "\n",
       "    .dataframe tbody tr th {\n",
       "        vertical-align: top;\n",
       "    }\n",
       "\n",
       "    .dataframe thead th {\n",
       "        text-align: right;\n",
       "    }\n",
       "</style>\n",
       "<table border=\"1\" class=\"dataframe\">\n",
       "  <thead>\n",
       "    <tr style=\"text-align: right;\">\n",
       "      <th></th>\n",
       "      <th>antecedents</th>\n",
       "      <th>consequents</th>\n",
       "      <th>antecedent support</th>\n",
       "      <th>consequent support</th>\n",
       "      <th>support</th>\n",
       "      <th>confidence</th>\n",
       "      <th>lift</th>\n",
       "      <th>leverage</th>\n",
       "      <th>conviction</th>\n",
       "    </tr>\n",
       "  </thead>\n",
       "  <tbody>\n",
       "    <tr>\n",
       "      <th>0</th>\n",
       "      <td>(Milk)</td>\n",
       "      <td>(Cheese)</td>\n",
       "      <td>0.501587</td>\n",
       "      <td>0.501587</td>\n",
       "      <td>0.304762</td>\n",
       "      <td>0.607595</td>\n",
       "      <td>1.211344</td>\n",
       "      <td>0.053172</td>\n",
       "      <td>1.270148</td>\n",
       "    </tr>\n",
       "    <tr>\n",
       "      <th>1</th>\n",
       "      <td>(Cheese)</td>\n",
       "      <td>(Milk)</td>\n",
       "      <td>0.501587</td>\n",
       "      <td>0.501587</td>\n",
       "      <td>0.304762</td>\n",
       "      <td>0.607595</td>\n",
       "      <td>1.211344</td>\n",
       "      <td>0.053172</td>\n",
       "      <td>1.270148</td>\n",
       "    </tr>\n",
       "    <tr>\n",
       "      <th>2</th>\n",
       "      <td>(Cheese)</td>\n",
       "      <td>(Meat)</td>\n",
       "      <td>0.501587</td>\n",
       "      <td>0.476190</td>\n",
       "      <td>0.323810</td>\n",
       "      <td>0.645570</td>\n",
       "      <td>1.355696</td>\n",
       "      <td>0.084958</td>\n",
       "      <td>1.477891</td>\n",
       "    </tr>\n",
       "    <tr>\n",
       "      <th>3</th>\n",
       "      <td>(Meat)</td>\n",
       "      <td>(Cheese)</td>\n",
       "      <td>0.476190</td>\n",
       "      <td>0.501587</td>\n",
       "      <td>0.323810</td>\n",
       "      <td>0.680000</td>\n",
       "      <td>1.355696</td>\n",
       "      <td>0.084958</td>\n",
       "      <td>1.557540</td>\n",
       "    </tr>\n",
       "  </tbody>\n",
       "</table>\n",
       "</div>"
      ],
      "text/plain": [
       "  antecedents consequents  antecedent support  consequent support   support  \\\n",
       "0      (Milk)    (Cheese)            0.501587            0.501587  0.304762   \n",
       "1    (Cheese)      (Milk)            0.501587            0.501587  0.304762   \n",
       "2    (Cheese)      (Meat)            0.501587            0.476190  0.323810   \n",
       "3      (Meat)    (Cheese)            0.476190            0.501587  0.323810   \n",
       "\n",
       "   confidence      lift  leverage  conviction  \n",
       "0    0.607595  1.211344  0.053172    1.270148  \n",
       "1    0.607595  1.211344  0.053172    1.270148  \n",
       "2    0.645570  1.355696  0.084958    1.477891  \n",
       "3    0.680000  1.355696  0.084958    1.557540  "
      ]
     },
     "execution_count": 13,
     "metadata": {},
     "output_type": "execute_result"
    }
   ],
   "source": [
    "v_model.rules"
   ]
  },
  {
   "cell_type": "code",
   "execution_count": 14,
   "metadata": {},
   "outputs": [],
   "source": [
    "# Support is a fraction of transactions that contain an itemset.\n",
    "# Confidence is the likelihood that item Y is also bought if item X is bought."
   ]
  },
  {
   "cell_type": "code",
   "execution_count": null,
   "metadata": {},
   "outputs": [],
   "source": []
  }
 ],
 "metadata": {
  "kernelspec": {
   "display_name": "Python 3",
   "language": "python",
   "name": "python3"
  },
  "language_info": {
   "codemirror_mode": {
    "name": "ipython",
    "version": 3
   },
   "file_extension": ".py",
   "mimetype": "text/x-python",
   "name": "python",
   "nbconvert_exporter": "python",
   "pygments_lexer": "ipython3",
   "version": "3.7.5"
  }
 },
 "nbformat": 4,
 "nbformat_minor": 4
}
